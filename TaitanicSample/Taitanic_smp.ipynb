{
 "cells": [
  {
   "cell_type": "code",
   "execution_count": null,
   "metadata": {
    "_cell_guid": "b1076dfc-b9ad-4769-8c92-a6c4dae69d19",
    "_uuid": "8f2839f25d086af736a60e9eeb907d3b93b6e0e5",
    "collapsed": false
   },
   "outputs": [],
   "source": [
    "#ライブラリー読み込み\n",
    "import numpy as np \n",
    "import pandas as pd \n",
    "\n",
    "#import sklearn.tree as  DecisionTreeRegressor これでは使えない\n",
    "#機械学習のモデル作成にsklearnのDecisionTreeRegressorを使用する\n",
    "from  sklearn.tree import DecisionTreeRegressor\n",
    "\n",
    "\n"
   ]
  },
  {
   "cell_type": "code",
   "execution_count": null,
   "metadata": {
    "_cell_guid": "79c7e3d0-c299-4dcb-8224-4455121ee9b0",
    "_uuid": "d629ff2d2480ee46fbb7e2d37f6b5fab8052498a",
    "collapsed": false
   },
   "outputs": [],
   "source": [
    "\n",
    "\n",
    "#訓練データを読み込む\n",
    "tf_train = pd.read_csv(\"train.csv\")\n",
    "\n",
    "#テスト用のデータを読み込む\n",
    "tf_test = pd.read_csv(\"test.csv\")\n",
    "\n",
    "#正解データを読み込む\n",
    "tf_gender_submission = pd.read_csv(\"gender_submission.csv\")\n",
    "#tf_train.head()\n",
    "tf_train.head()\n"
   ]
  },
  {
   "cell_type": "code",
   "execution_count": null,
   "metadata": {
    "collapsed": true
   },
   "outputs": [],
   "source": [
    "#欠損値がある行をすべて抜く\n",
    "#tf_train = tf_train.dropna(subset=['Age',\"Fare\"])\n",
    "#tf_test = tf_test.dropna(subset=['Age',\"Fare\"])\n",
    "\n",
    "#欠損値の穴埋めをする(testのときにデータと正解値の行数が一致しなくなるため)\n",
    "#しかし、テストにつかうデータに対して、欠損値に穴埋めしてよいのかという疑問は残る\n",
    "tf_train = tf_train.fillna(method=\"ffill\")\n",
    "tf_test = tf_test.fillna(method=\"ffill\")\n"
   ]
  },
  {
   "cell_type": "code",
   "execution_count": null,
   "metadata": {
    "collapsed": true
   },
   "outputs": [],
   "source": [
    "\n",
    "#get csv\n",
    "#Fareは、testデータに欠損があるため\n",
    "#drop_column =[\"Name\",\"PassengerId\",\"SibSp\",\"Cabin\",\"Ticket\",\"Embarked\"] #0.20055821371610846\n",
    "#drop_column =[\"Name\",\"PassengerId\",\"SibSp\",\"Cabin\",\"Ticket\",\"Embarked\",\"Pclass\"] #0.21491228070175442\n",
    "drop_column =[\"Name\",\"PassengerId\",\"SibSp\",\"Cabin\",\"Ticket\",\"Embarked\",\"Pclass\",\"Age\",\"Parch\"] #0.19311944506819512(試した結果)\n",
    "#drop_column =[\"Name\",\"PassengerId\",\"SibSp\",\"Cabin\",\"Ticket\",\"Embarked\",\"Pclass\",\"Age\",\"Parch\",\"Fare\"] #0.21401855934746247\n",
    "\n",
    "#不要と思われるカラムを削除する\n",
    "tf_train.drop(drop_column ,axis=1, inplace=True)\n",
    "tf_test.drop(drop_column ,axis=1, inplace=True)\n",
    "\n",
    "\n",
    "\n"
   ]
  },
  {
   "cell_type": "code",
   "execution_count": null,
   "metadata": {
    "collapsed": true
   },
   "outputs": [],
   "source": [
    "genders = {'male': 0, 'female': 1} # 辞書を作成\n",
    "# Sexをgendersを用いて数値に変換\n",
    "tf_train['Sex'] = tf_train['Sex'].map(genders)\n",
    "tf_test['Sex'] = tf_test['Sex'].map(genders)\n",
    "\n",
    "\n",
    "\n"
   ]
  },
  {
   "cell_type": "code",
   "execution_count": null,
   "metadata": {
    "collapsed": false
   },
   "outputs": [],
   "source": [
    "X_train = tf_train.iloc[:, 1:]\n",
    "Y_train = tf_train['Survived']\n",
    "\n",
    "X_train.head()\n"
   ]
  },
  {
   "cell_type": "code",
   "execution_count": null,
   "metadata": {
    "collapsed": false
   },
   "outputs": [],
   "source": [
    "tree_model = DecisionTreeRegressor() #max depthによって値が変わる\n",
    "fit = tree_model.fit(X_train, Y_train)"
   ]
  },
  {
   "cell_type": "code",
   "execution_count": null,
   "metadata": {
    "collapsed": false
   },
   "outputs": [],
   "source": [
    "#様子を見るためtreeの図を出力する\n",
    "from sklearn import tree\n",
    "import graphviz \n",
    "\n",
    "#tree.plot_tree(fit)\n",
    "\n",
    "dot_data = tree.export_graphviz(fit, out_file=None) \n",
    "graph = graphviz.Source(dot_data) \n",
    "graph.render(\"taitanic\") "
   ]
  },
  {
   "cell_type": "code",
   "execution_count": null,
   "metadata": {
    "collapsed": false
   },
   "outputs": [],
   "source": [
    "#学習おわり\n",
    "predicted_survived = tree_model.predict(tf_test)\n",
    "print(tf_test.isnull().any())\n",
    "\n"
   ]
  },
  {
   "cell_type": "code",
   "execution_count": null,
   "metadata": {
    "collapsed": false
   },
   "outputs": [],
   "source": [
    "#ここからデータの検証に入る\n",
    "from sklearn.metrics import mean_absolute_error\n",
    "\n",
    "#０に近づくほど精度が高いモデルと言える\n",
    "y = tf_gender_submission.Survived\n",
    "mean_absolute_error(y, predicted_survived)\n",
    "\n",
    "#最終的に「0.19311944506819512」という数字が出た(0に行くほど精度が高い。逆に１に近づくほど精度が悪いとも言う)"
   ]
  },
  {
   "cell_type": "code",
   "execution_count": null,
   "metadata": {
    "collapsed": false
   },
   "outputs": [],
   "source": []
  },
  {
   "cell_type": "code",
   "execution_count": null,
   "metadata": {
    "collapsed": true
   },
   "outputs": [],
   "source": []
  }
 ],
 "metadata": {
  "kernelspec": {
   "display_name": "Python 3",
   "language": "python",
   "name": "python3"
  },
  "language_info": {
   "codemirror_mode": {
    "name": "ipython",
    "version": 3
   },
   "file_extension": ".py",
   "mimetype": "text/x-python",
   "name": "python",
   "nbconvert_exporter": "python",
   "pygments_lexer": "ipython3",
   "version": "3.6.8"
  }
 },
 "nbformat": 4,
 "nbformat_minor": 1
}
