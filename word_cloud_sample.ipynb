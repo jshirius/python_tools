{
 "cells": [
  {
   "cell_type": "code",
   "execution_count": 1,
   "metadata": {
    "collapsed": false
   },
   "outputs": [],
   "source": [
    "'''\n",
    "DB(Mysql)に保存した文章データから、形態素解析するサンプル。\n",
    "取り出した語句についてWordCloudで可視化までする\n",
    "'''\n",
    "\n",
    "import re\n",
    "import pickle\n",
    "from janome.tokenizer import Tokenizer\n",
    "import mysql.connector\n",
    "from wordcloud import WordCloud\n",
    "\n",
    "\n",
    "#文章データを読み込みます。\n",
    "#この例では、mysqlから読み込み元のデータを持って来ています。\n",
    "conn = mysql.connector.connect(\n",
    "    host = 'localhost',\n",
    "    port =  3306,\n",
    "    user =  'root',\n",
    "    password =  \"\",\n",
    "    database = \"BlogResearch\",\n",
    ")\n",
    "cur = conn.cursor()\n",
    "cur.execute('SELECT diary_data  from t_diary_logs where  id IN(3525)')\n",
    "datas = cur.fetchall()\n",
    "\n",
    "seperator = \"。\"\n",
    "mixi_diary_origin = \"\"\n",
    "for row in datas:\n",
    "    data =   re.sub(\"[｜ 　「」\\n]\", \"\", row[0]) # | と全角半角スペース、「」と改行の削除\n",
    "    mixi_diary_origin += data\n",
    "\n",
    "mixi_diary_list = mixi_diary_origin.split(seperator)  # セパレーターを使って文章をリストに分割する\n",
    "mixi_diary_list = [x+seperator for x in mixi_diary_list]  # 文章の最後に。を追加\n",
    "\n",
    "#この時点でデータの準備が終わりです\n",
    "#ここから形態素分析に入ります\n",
    "t = Tokenizer()\n",
    "\n",
    "mixi_diary_words = []  #形態素分析したあとに出てきた語句を格納するリスト(この例では、名詞、形容詞のみの語句を取っています)\n",
    "for sentence in mixi_diary_list:\n",
    "    \n",
    "    tokens = t.tokenize(sentence)\n",
    "    words = []\n",
    "    for token in tokens:\n",
    "        # 品詞を取り出し\n",
    "        partOfSpeech = token.part_of_speech.split(',')[0]\n",
    " \n",
    "        if partOfSpeech == u'名詞'  or  partOfSpeech == u'形容詞' :\n",
    "            #print (token.surface)\n",
    "            words.append(token.surface)\n",
    "    \n",
    "    if len(words) > 0:\n",
    "        mixi_diary_words.extend(words)\n",
    "    \n"
   ]
  },
  {
   "cell_type": "code",
   "execution_count": 2,
   "metadata": {
    "collapsed": false
   },
   "outputs": [
    {
     "data": {
      "text/plain": [
       "<wordcloud.wordcloud.WordCloud at 0x108ac76d8>"
      ]
     },
     "execution_count": 2,
     "metadata": {},
     "output_type": "execute_result"
    }
   ],
   "source": [
    "#ここからWordCloudの処理\n",
    "#mixi_diary_wordsは、WordCloudで使えるように2次元の配列(行列)になっているので、1次元の配列(ベクトル)に変換する\n",
    "text = \"\"\n",
    "for x in mixi_diary_words:\n",
    "    text = text + x + \" \"\n",
    "\n",
    "wordcloud = WordCloud(background_color=\"white\",\n",
    "    font_path=\"/System/Library/Fonts/ヒラギノ明朝 ProN.ttc\",\n",
    "    width=800,height=600).generate(text)\n",
    "\n",
    "#画像ファイルに保存する\n",
    "wordcloud.to_file(\"./wordcloud_mixi.png\")"
   ]
  },
  {
   "cell_type": "code",
   "execution_count": null,
   "metadata": {
    "collapsed": true
   },
   "outputs": [],
   "source": []
  }
 ],
 "metadata": {
  "kernelspec": {
   "display_name": "Python 3",
   "language": "python",
   "name": "python3"
  },
  "language_info": {
   "codemirror_mode": {
    "name": "ipython",
    "version": 3
   },
   "file_extension": ".py",
   "mimetype": "text/x-python",
   "name": "python",
   "nbconvert_exporter": "python",
   "pygments_lexer": "ipython3",
   "version": "3.6.8"
  }
 },
 "nbformat": 4,
 "nbformat_minor": 2
}
