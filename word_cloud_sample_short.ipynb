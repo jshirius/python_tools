{
 "cells": [
  {
   "cell_type": "code",
   "execution_count": 2,
   "metadata": {
    "collapsed": false
   },
   "outputs": [
    {
     "data": {
      "text/plain": [
       "<wordcloud.wordcloud.WordCloud at 0x106666eb8>"
      ]
     },
     "execution_count": 2,
     "metadata": {},
     "output_type": "execute_result"
    }
   ],
   "source": [
    "\"\"\"\n",
    "WordCloudのサンプル\n",
    "WordCloudは、キーワードを画像に可視化するものです。\n",
    "使われているキーワードの回数が多いほど、文字が大きくなります。\n",
    "\n",
    "以下のコードを実行すると、使われている回数が最も多い「非モテ」というキーワードの画像が一番大きくなる\n",
    "\"\"\"\n",
    "\n",
    "from wordcloud import WordCloud\n",
    "\n",
    "#文字列に変換する\n",
    "text = \"非モテ 非モテ 非モテ 男　女 男 モテ モテ男 モテ男　天丼　穴子丼　非　トイレ\"\n",
    "\n",
    "wordcloud = WordCloud(background_color=\"white\",\n",
    "    font_path=\"/System/Library/Fonts/ヒラギノ明朝 ProN.ttc\",\n",
    "    width=800,height=600).generate(text)\n",
    "\n",
    "wordcloud.to_file(\"./wordcloud_sample.png\")"
   ]
  },
  {
   "cell_type": "code",
   "execution_count": null,
   "metadata": {
    "collapsed": true
   },
   "outputs": [],
   "source": []
  }
 ],
 "metadata": {
  "kernelspec": {
   "display_name": "Python 3",
   "language": "python",
   "name": "python3"
  },
  "language_info": {
   "codemirror_mode": {
    "name": "ipython",
    "version": 3
   },
   "file_extension": ".py",
   "mimetype": "text/x-python",
   "name": "python",
   "nbconvert_exporter": "python",
   "pygments_lexer": "ipython3",
   "version": "3.6.8"
  }
 },
 "nbformat": 4,
 "nbformat_minor": 2
}
